{
 "cells": [
  {
   "cell_type": "code",
   "execution_count": null,
   "metadata": {},
   "outputs": [],
   "source": [
    "from brian2 import *\n",
    "\n",
    "prefs.codegen.target = \"numpy\""
   ]
  },
  {
   "cell_type": "code",
   "execution_count": null,
   "metadata": {},
   "outputs": [],
   "source": [
    "start_scope()\n",
    "\n",
    "# morphology creation\n",
    "cyl_len = 50 * umetre\n",
    "cyl_diam = 50 * umetre\n",
    "cylinder = Cylinder(length=cyl_len, diameter=cyl_diam, n=1000, type=\"axon\")\n",
    "\n",
    "# consta and parameters\n",
    "Cm = 1 * ufarad / cm**2\n",
    "Eleak = -65.5 * mV\n",
    "Vr = -57.4 * mV\n",
    "gl = 1.42 * msiemens/cm**2\n",
    "\n",
    "gNa_f_max = 25 * msiemens/cm**2\n",
    "ENa = 62 * mV\n",
    "\n",
    "# equations\n",
    "\n",
    "main_eq = \"Im = gl * (Vm - Eleak) : amp/meter**2\"\n",
    "extI_eq = \"I : amp (point current)\"\n",
    "\n",
    "f_eq = \"\"\"\n",
    "INa_f = gNa_f_max * m**3 * h * (v - ENa) : ampere\n",
    "dm/dt = (minf - m) / tau_m : 1\n",
    "dh/dt = (hinf - h) / tau_h : 1\n",
    "minf = 1 / (1 + exp(-Vm)) : 1\n",
    "\"\"\"\n",
    "\n",
    "main_eq = Equations(main_eq) + Equations(extI_eq)\n",
    "\n",
    "# neuron main object\n",
    "neuron = SpatialNeuron(cylinder, main_eq, Cm, Ri=35.4*ohm*cm, method=\"exponential_euler\")\n",
    "\n",
    "# monitors\n",
    "mon = StateMonitor(neuron, 'v', record=True)\n",
    "\n",
    "neuron.v = 0*mV\n",
    "\n",
    "run(50*ms)\n",
    "neuron.I = .5 * nA\n",
    "run(100*ms)"
   ]
  },
  {
   "cell_type": "code",
   "execution_count": null,
   "metadata": {},
   "outputs": [],
   "source": [
    "# result plots\n",
    "plot(mon.t/ms, mon.v[0]/mV)"
   ]
  },
  {
   "cell_type": "code",
   "execution_count": null,
   "metadata": {},
   "outputs": [],
   "source": [
    "from matplotlib.pyplot import plot"
   ]
  },
  {
   "cell_type": "code",
   "execution_count": null,
   "metadata": {},
   "outputs": [],
   "source": []
  }
 ],
 "metadata": {
  "interpreter": {
   "hash": "2e679ddc714b1336924bff5c0515add1c83fb734a5c07385f99d8fe0cd8defa8"
  },
  "kernelspec": {
   "display_name": "Python 3.10.5 ('brian')",
   "language": "python",
   "name": "python3"
  },
  "language_info": {
   "codemirror_mode": {
    "name": "ipython",
    "version": 3
   },
   "file_extension": ".py",
   "mimetype": "text/x-python",
   "name": "python",
   "nbconvert_exporter": "python",
   "pygments_lexer": "ipython3",
   "version": "3.10.5"
  },
  "orig_nbformat": 4
 },
 "nbformat": 4,
 "nbformat_minor": 2
}
