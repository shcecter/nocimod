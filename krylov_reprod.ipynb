{
 "cells": [
  {
   "cell_type": "code",
   "execution_count": 1,
   "id": "63853973",
   "metadata": {},
   "outputs": [],
   "source": [
    "from brian2 import *\n",
    "\n",
    "\n",
    "prefs.codegen.target = \"numpy\""
   ]
  },
  {
   "cell_type": "code",
   "execution_count": 29,
   "id": "abf1a694",
   "metadata": {},
   "outputs": [
    {
     "name": "stdout",
     "output_type": "stream",
     "text": [
      "Starting simulation at t=0. s for a duration of 20. ms\n",
      "20. ms (100%) simulated in < 1s\n",
      "Starting simulation at t=20. ms for a duration of 30. ms\n",
      "30. ms (100%) simulated in < 1s\n",
      "Starting simulation at t=50. ms for a duration of 50. ms\n",
      "50. ms (100%) simulated in < 1s\n"
     ]
    }
   ],
   "source": [
    "C_m = 20 * pF\n",
    "\n",
    "g_Naf = 50 * nsiemens\n",
    "g_Nas = 100 * nsiemens  # variable\n",
    "g_K = 40 * nsiemens\n",
    "g_l = 5 * nsiemens\n",
    "\n",
    "E_Na = 55 * mV\n",
    "E_K = -85 * mV\n",
    "E_r = -70 * mV\n",
    "E_l = -70 * mV\n",
    "\n",
    "\n",
    "eqs = \"\"\"\n",
    "dV/dt = (Iinp - I_Nas - I_Naf - I_K - I_l) / C_m : volt\n",
    "\n",
    "Iinp : ampere\n",
    "I_Naf = 0*amp : ampere\n",
    "I_K = 0*amp : ampere\n",
    "I_l = g_l * (V - E_l) : ampere\n",
    "\n",
    "I_Nas = g_Nas * m_Nas**3 * h_Nas * (V - E_Na) : ampere\n",
    "dm_Nas/dt = alpha_mNas * (1 - m_Nas) - beta_mNas * m_Nas : 1\n",
    "alpha_mNas = exp(0.039*V/mV - 0.56)/second : 1/second\n",
    "beta_mNas = exp(-0.049*V/mV - 2.53)/second : 1/second\n",
    "dh_Nas/dt = alpha_hNas * (1 - h_Nas) - beta_hNas * h_Nas : 1\n",
    "alpha_hNas = 0.002 * exp(-V/mV/30)/second : Hz\n",
    "beta_hNas = 0.1/(1 + 0.2*exp(-(V/mV+10)/7))/second : Hz\n",
    "\"\"\"\n",
    "\n",
    "testnr = NeuronGroup(1, eqs, method='euler')\n",
    "\n",
    "teststmon = StateMonitor(testnr, 'V', True)\n",
    "\n",
    "testnr.V = E_l\n",
    "\n",
    "run(20*ms, report='text')\n",
    "testnr.V = -50*mV\n",
    "run(30*ms, report='text')\n",
    "testnr.Iinp = .1*nA\n",
    "run(50*ms, report='text')\n",
    "testnr.Iinp = 1*nA\n",
    "run(50*ms)"
   ]
  },
  {
   "cell_type": "code",
   "execution_count": 30,
   "id": "2aa44ca5",
   "metadata": {},
   "outputs": [
    {
     "data": {
      "text/plain": [
       "[<matplotlib.lines.Line2D at 0x13e60d240>]"
      ]
     },
     "execution_count": 30,
     "metadata": {},
     "output_type": "execute_result"
    },
    {
     "data": {
      "image/png": "[encoded data removed]",
      "text/plain": [
       "<Figure size 432x288 with 1 Axes>"
      ]
     },
     "metadata": {
      "needs_background": "light"
     },
     "output_type": "display_data"
    }
   ],
   "source": [
    "plot(teststmon.t/ms, teststmon.V[0]/mV)"
   ]
  },
  {
   "cell_type": "code",
   "execution_count": null,
   "id": "1d89e19c",
   "metadata": {},
   "outputs": [],
   "source": [
    "dh_Nas/dt = alpha_hNas * (1 - h_Nas) - beta_hNas * h_Nas : 1\n",
    "\n",
    "alpha_mNas = 0.05 * (1 + exp(V/mV + 44)) / (1 + exp((V/mV - 7)/10))/second : 1/second\n",
    "beta_mNas = 0.05 * (1 + exp(-(V/mV + 6)/16))/second : 1/second\n",
    "\n",
    "alpha_r = 1e-4 * exp(-(V/mv + 8)/29) + 8e-4 : 1\n",
    "beta_r = 3e-4 / (1 + 0.24 * exp(-(V/mv + 23)/10)) : 1\n",
    "    \n",
    "dh_Naf/dt = alpha_hNaf * (1 - h_Naf) - beta_hNaf * h_Naf : 1\n",
    "dm_Naf/dt = alpha_mNaf * (1 - m_Naf) - beta_m_Naf * m_Naf : 1\n",
    "dn/dt = alpha_n * (1 - n) - beta_n * n : 1\n",
    "dr_Nas/dt = alpha_r * (1 - r_Nas) - beta_r * r_Nas : 1\n"
   ]
  }
 ],
 "metadata": {
  "kernelspec": {
   "display_name": "Python 3 (ipykernel)",
   "language": "python",
   "name": "python3"
  },
  "language_info": {
   "codemirror_mode": {
    "name": "ipython",
    "version": 3
   },
   "file_extension": ".py",
   "mimetype": "text/x-python",
   "name": "python",
   "nbconvert_exporter": "python",
   "pygments_lexer": "ipython3",
   "version": "3.10.5"
  }
 },
 "nbformat": 4,
 "nbformat_minor": 5
}
