{
 "cells": [
  {
   "cell_type": "code",
   "execution_count": 1,
   "id": "168ae19c",
   "metadata": {},
   "outputs": [],
   "source": [
    "from brian2 import *\n",
    "\n",
    "\n",
    "prefs.codegen.target = \"numpy\""
   ]
  },
  {
   "cell_type": "code",
   "execution_count": null,
   "id": "fbbce030",
   "metadata": {},
   "outputs": [],
   "source": [
    "C_m = 20 * pF\n",
    "\n",
    "g_Naf = 50 * nsiemens\n",
    "g_K = 40 * nsiemens\n",
    "g_l = 5 * nsiemens\n",
    "\n",
    "E_Na = 55 * mV\n",
    "E_K = -85 * mV\n",
    "E_r = -70 * mV\n",
    "E_l = -70 * mV\n",
    "\n",
    "\n",
    "eqs = \"\"\"\n",
    "dV/dt = (I_Nas - I_Naf - I_K - I_l) / C_m : volt\n",
    "\n",
    "dm_Nas/dt = alpha_mNas * (1 - m_Nas) - beta_mNas * m_Nas : 1\n",
    "dh_Nas/dt = alpha_hNas * (1 - h_Nas) - beta_hNas * h_Nas : 1\n",
    "dh_Naf/dt = alpha_hNaf * (1 - h_Naf) - beta_hNaf * h_Naf : 1\n",
    "dm_Naf/dt = alpha_mNaf * (1 - m_Naf) - beta_m_Naf * m_Naf : 1\n",
    "dn/dt = alpha_n * (1 - n) - beta_n * n : 1\n",
    "\n",
    "alpha_mNas = 0.05 * (1 + exp(V/mV + 44)) / (1 + exp((V/mV - 7)/10)) : 1\n",
    "beta_mNas = 0.05 * (1 + exp(-(V/mV + 6)/16)) : 1\n",
    "\n",
    "alpha_mNas\n",
    "\"\"\""
   ]
  }
 ],
 "metadata": {
  "kernelspec": {
   "display_name": "Python 3 (ipykernel)",
   "language": "python",
   "name": "python3"
  },
  "language_info": {
   "codemirror_mode": {
    "name": "ipython",
    "version": 3
   },
   "file_extension": ".py",
   "mimetype": "text/x-python",
   "name": "python",
   "nbconvert_exporter": "python",
   "pygments_lexer": "ipython3",
   "version": "3.10.5"
  }
 },
 "nbformat": 4,
 "nbformat_minor": 5
}
