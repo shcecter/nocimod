{
 "cells": [
  {
   "cell_type": "code",
   "execution_count": 2,
   "id": "63853973",
   "metadata": {},
   "outputs": [],
   "source": [
    "from brian2 import *\n",
    "\n",
    "\n",
    "prefs.codegen.target = \"numpy\""
   ]
  },
  {
   "cell_type": "code",
   "execution_count": 29,
   "id": "abf1a694",
   "metadata": {},
   "outputs": [
    {
     "name": "stdout",
     "output_type": "stream",
     "text": [
      "Starting simulation at t=0. s for a duration of 20. ms\n",
      "20. ms (100%) simulated in < 1s\n",
      "Starting simulation at t=20. ms for a duration of 30. ms\n",
      "30. ms (100%) simulated in < 1s\n",
      "Starting simulation at t=50. ms for a duration of 50. ms\n",
      "50. ms (100%) simulated in < 1s\n"
     ]
    }
   ],
   "source": [
    "C_m = 20 * pF\n",
    "\n",
    "g_Naf = 50 * nsiemens\n",
    "g_Nas = 100 * nsiemens  # variable\n",
    "g_K = 40 * nsiemens\n",
    "g_l = 5 * nsiemens\n",
    "\n",
    "E_Na = 55 * mV\n",
    "E_K = -85 * mV\n",
    "E_r = -70 * mV\n",
    "E_l = -70 * mV\n",
    "\n",
    "\n",
    "eqs = \"\"\"\n",
    "dV/dt = (Iinp - I_Nas - I_Naf - I_K - I_l) / C_m : volt\n",
    "\n",
    "Iinp : ampere\n",
    "I_Naf = 0*amp : ampere\n",
    "I_K = 0*amp : ampere\n",
    "I_l = g_l * (V - E_l) : ampere\n",
    "\n",
    "I_Nas = g_Nas * m_Nas**3 * h_Nas * (V - E_Na) : ampere\n",
    "\n",
    "\n",
    "dm_Nas/dt = alpha_mNas * (1 - m_Nas) - beta_mNas * m_Nas : 1\n",
    "alpha_mNas = exp(0.039*V/mV - 0.56)/second : 1/second\n",
    "beta_mNas = exp(-0.049*V/mV - 2.53)/second : 1/second\n",
    "dh_Nas/dt = alpha_hNas * (1 - h_Nas) - beta_hNas * h_Nas : 1\n",
    "alpha_hNas = 0.002 * exp(-V/mV/30)/second : Hz\n",
    "beta_hNas = 0.1/(1 + 0.2*exp(-(V/mV+10)/7))/second : Hz\n",
    "\"\"\"\n",
    "\n",
    "testnr = NeuronGroup(1, eqs, method='euler')\n",
    "\n",
    "teststmon = StateMonitor(testnr, 'V', True)\n",
    "\n",
    "testnr.V = E_l\n",
    "\n",
    "run(20*ms, report='text')\n",
    "testnr.V = -50*mV\n",
    "run(30*ms, report='text')\n",
    "testnr.Iinp = .1*nA\n",
    "run(50*ms, report='text')\n",
    "testnr.Iinp = 1*nA\n",
    "run(50*ms)"
   ]
  },
  {
   "cell_type": "code",
   "execution_count": 30,
   "id": "2aa44ca5",
   "metadata": {},
   "outputs": [
    {
     "data": {
      "text/plain": [
       "[<matplotlib.lines.Line2D at 0x13e60d240>]"
      ]
     },
     "execution_count": 30,
     "metadata": {},
     "output_type": "execute_result"
    },
    {
     "data": {
      "image/png": "[encoded data removed]",
      "text/plain": [
       "<Figure size 432x288 with 1 Axes>"
      ]
     },
     "metadata": {
      "needs_background": "light"
     },
     "output_type": "display_data"
    }
   ],
   "source": [
    "plot(teststmon.t/ms, teststmon.V[0]/mV)"
   ]
  },
  {
   "cell_type": "code",
   "execution_count": null,
   "id": "1d89e19c",
   "metadata": {},
   "outputs": [],
   "source": [
    "dh_Nas/dt = alpha_hNas * (1 - h_Nas) - beta_hNas * h_Nas : 1\n",
    "\n",
    "alpha_mNas = 0.05 * (1 + exp(V/mV + 44)) / (1 + exp((V/mV - 7)/10))/second : 1/second\n",
    "beta_mNas = 0.05 * (1 + exp(-(V/mV + 6)/16))/second : 1/second\n",
    "\n",
    "alpha_r = 1e-4 * exp(-(V/mv + 8)/29) + 8e-4 : 1\n",
    "beta_r = 3e-4 / (1 + 0.24 * exp(-(V/mv + 23)/10)) : 1\n",
    "    \n",
    "dh_Naf/dt = alpha_hNaf * (1 - h_Naf) - beta_hNaf * h_Naf : 1\n",
    "dm_Naf/dt = alpha_mNaf * (1 - m_Naf) - beta_m_Naf * m_Naf : 1\n",
    "dn/dt = alpha_n * (1 - n) - beta_n * n : 1\n",
    "dr_Nas/dt = alpha_r * (1 - r_Nas) - beta_r * r_Nas : 1\n"
   ]
  },
  {
   "cell_type": "code",
   "execution_count": null,
   "id": "f918118e",
   "metadata": {},
   "outputs": [],
   "source": [
    "# Brian's equation with Krylov parameters\n",
    "# Parameters\n",
    "area = 20000*umetre**2\n",
    "Cm = 20 * pfarad  # was 200 pF\n",
    "gl = 5 * nsiemens\n",
    "El = -70*mV\n",
    "EK = -85*mV\n",
    "ENa = 55*mV\n",
    "g_nas = 75 * nsiemens  # 200\n",
    "g_na = 50 * nsiemens  # was 20uS\n",
    "g_kd = 40 * nsiemens  # was 6uS\n",
    "VT = -63*mV\n",
    "\n",
    "# The model\n",
    "eqs = Equations('''\n",
    "dv/dt = (gl*(El-v) - g_na*(m*m*m)*h*(v-ENa) - g_kd*(n*n*n*n)*(v-EK) - g_nas*INas + I)/Cm : volt\n",
    "INas = (v-ENa) * m_s**3*h : volt\n",
    "dm/dt = 0.32*(mV**-1)*4*mV/exprel((13.*mV-v+VT)/(4*mV))/ms*(1-m)-0.28*(mV**-1)*5*mV/exprel((v-VT-40.*mV)/(5*mV))/ms*m : 1\n",
    "dn/dt = 0.032*(mV**-1)*5*mV/exprel((15.*mV-v+VT)/(5*mV))/ms*(1.-n)-.5*exp((10.*mV-v+VT)/(40.*mV))/ms*n : 1\n",
    "dh/dt = 0.128*exp((17.*mV-v+VT)/(18.*mV))/ms*(1.-h)-4./(1+exp((40.*mV-v+VT)/(5.*mV)))/ms*h : 1\n",
    "dm_s/dt = ams * (1 - m_s) - bms * m_s : 1\n",
    "ams = 0.05 * (1 + exp(v/mV + 40)/8)/(1 + exp(v/mV - 11)/10)/ms : Hz\n",
    "bms = 0.05 * (1 + exp(-(v/mV + 2))/16)/ms : Hz\n",
    "\n",
    "I : amp\n",
    "''')\n",
    "# Threshold and refractoriness are only used for spike counting\n",
    "group = NeuronGroup(1, eqs,\n",
    "                    threshold='v > -40*mV',\n",
    "                    refractory='v > -40*mV',\n",
    "                    method='exponential_euler')\n",
    "group.v = El\n",
    "stmon = StateMonitor(group, 'v', True)\n",
    "\n",
    "run(10*ms)\n",
    "group.I = 110*pA\n",
    "run(200*ms)\n",
    "group.I = 0 * pA\n",
    "run(50*ms)"
   ]
  },
  {
   "cell_type": "code",
   "execution_count": 40,
   "id": "453a96dc",
   "metadata": {},
   "outputs": [],
   "source": [
    "# Brian's equation with Krylov parameters\n",
    "# Parameters\n",
    "Cm = 20 * pfarad  # was 200 pF\n",
    "gl = 5 * nsiemens\n",
    "El = -70*mV\n",
    "EK = -85*mV\n",
    "ENa = 55*mV\n",
    "g_nas = 75 * nsiemens  # 200\n",
    "g_naf = 50 * nsiemens  # was 20uS\n",
    "g_na = 50 * nsiemens\n",
    "g_kd = 40 * nsiemens  # was 6uS\n",
    "VT = -63*mV\n",
    "\n",
    "# The model\n",
    "eqs = Equations('''\n",
    "dv/dt = (gl*(El-v) - g_kd*(n*n*n*n)*(v-EK) - g_nas*INas - g_naf*INaf - g_na*INa + I)/Cm : volt\n",
    "INa = m**3 * h * (v - ENa) : volt\n",
    "dm/dt = 0.32*(mV**-1)*4*mV/exprel((13.*mV-v+VT)/(4*mV))/ms*(1-m)-0.28*(mV**-1)*5*mV/exprel((v-VT-40.*mV)/(5*mV))/ms*m : 1\n",
    "dh/dt = 0.128*exp((17.*mV-v+VT)/(18.*mV))/ms*(1.-h)-4./(1+exp((40.*mV-v+VT)/(5.*mV)))/ms*h : 1\n",
    "\n",
    "INas = (v-ENa) * m_s**3*h_s : volt\n",
    "INaf = (v - ENa) * m_s**3 * h_f : volt\n",
    "dn/dt = 0.032*(mV**-1)*5*mV/exprel((15.*mV-v+VT)/(5*mV))/ms*(1.-n)-.5*exp((10.*mV-v+VT)/(40.*mV))/ms*n : 1\n",
    "dm_s/dt = ams * (1 - m_s) - bms * m_s : 1\n",
    "ams = 0.05 * (1 + exp(v/mV + 40)/8)/(1 + exp(v/mV - 11)/10)/ms : Hz\n",
    "bms = 0.05 * (1 + exp(-(v/mV + 2))/16)/ms : Hz\n",
    "dh_s/dt = ahs * (1 - h_s) - bhs * h_s : 1\n",
    "dh_f/dt = ahf * (1 - h_f) - bhf * h_f : 1\n",
    "ahs = 0.002 * exp(-v/mV/30)/ms : Hz\n",
    "bhs = 0.1/(1 + 0.2 * exp(-(v/mV + 10)/7))/ms : Hz\n",
    "ahf = 0.012 * exp(-(v/mV + 43)/10)/ms : Hz\n",
    "bhf = 1.32 / (1 + 0.2 * exp(-(v/mV + 10)/7))/ms : Hz\n",
    "\n",
    "I : amp\n",
    "''')\n",
    "# Threshold and refractoriness are only used for spike counting\n",
    "group = NeuronGroup(1, eqs,\n",
    "                    method='exponential_euler')\n",
    "group.v = El\n",
    "stmon = StateMonitor(group, 'v', True)\n",
    "\n",
    "run(10*ms)\n",
    "group.I = 180*pA\n",
    "run(200*ms)\n",
    "group.I = 0 * pA\n",
    "run(50*ms)"
   ]
  },
  {
   "cell_type": "code",
   "execution_count": 41,
   "id": "19f1e9f5",
   "metadata": {},
   "outputs": [
    {
     "data": {
      "text/plain": [
       "[<matplotlib.lines.Line2D at 0x113ffba90>]"
      ]
     },
     "execution_count": 41,
     "metadata": {},
     "output_type": "execute_result"
    },
    {
     "data": {
      "image/png": "[encoded data removed]",
      "text/plain": [
       "<Figure size 432x288 with 1 Axes>"
      ]
     },
     "metadata": {
      "needs_background": "light"
     },
     "output_type": "display_data"
    }
   ],
   "source": [
    "plot(stmon.t/ms, stmon.v[0]/mV)"
   ]
  },
  {
   "cell_type": "code",
   "execution_count": null,
   "id": "4e13248d",
   "metadata": {},
   "outputs": [],
   "source": []
  },
  {
   "cell_type": "code",
   "execution_count": null,
   "id": "3e65db7a",
   "metadata": {},
   "outputs": [],
   "source": []
  }
 ],
 "metadata": {
  "kernelspec": {
   "display_name": "Python 3 (ipykernel)",
   "language": "python",
   "name": "python3"
  },
  "language_info": {
   "codemirror_mode": {
    "name": "ipython",
    "version": 3
   },
   "file_extension": ".py",
   "mimetype": "text/x-python",
   "name": "python",
   "nbconvert_exporter": "python",
   "pygments_lexer": "ipython3",
   "version": "3.10.5"
  }
 },
 "nbformat": 4,
 "nbformat_minor": 5
}
